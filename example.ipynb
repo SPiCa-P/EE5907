{
 "cells": [
  {
   "cell_type": "code",
   "execution_count": 11,
   "metadata": {},
   "outputs": [
    {
     "ename": "TypeError",
     "evalue": "float() argument must be a string or a real number, not 'vectorize'",
     "output_type": "error",
     "traceback": [
      "\u001b[1;31m---------------------------------------------------------------------------\u001b[0m",
      "\u001b[1;31mTypeError\u001b[0m                                 Traceback (most recent call last)",
      "\u001b[1;32mc:\\Users\\spica\\Desktop\\EE5907\\example.ipynb Cell 1\u001b[0m in \u001b[0;36m<cell line: 80>\u001b[1;34m()\u001b[0m\n\u001b[0;32m     <a href='vscode-notebook-cell:/c%3A/Users/spica/Desktop/EE5907/example.ipynb#ch0000000?line=77'>78</a>\u001b[0m s \u001b[39m=\u001b[39m \u001b[39m1\u001b[39m\n\u001b[0;32m     <a href='vscode-notebook-cell:/c%3A/Users/spica/Desktop/EE5907/example.ipynb#ch0000000?line=78'>79</a>\u001b[0m [w, phi_guas] \u001b[39m=\u001b[39m mle_basis_func(x_noise, y_noise, M2, s)\n\u001b[1;32m---> <a href='vscode-notebook-cell:/c%3A/Users/spica/Desktop/EE5907/example.ipynb#ch0000000?line=79'>80</a>\u001b[0m [x_map, y_map] \u001b[39m=\u001b[39m mle_basis_plot(x_curve, w)\n\u001b[0;32m     <a href='vscode-notebook-cell:/c%3A/Users/spica/Desktop/EE5907/example.ipynb#ch0000000?line=80'>81</a>\u001b[0m \u001b[39m# plot\u001b[39;00m\n\u001b[0;32m     <a href='vscode-notebook-cell:/c%3A/Users/spica/Desktop/EE5907/example.ipynb#ch0000000?line=81'>82</a>\u001b[0m plt\u001b[39m.\u001b[39mtitle(\u001b[39m\"\u001b[39m\u001b[39mM = \u001b[39m\u001b[39m\"\u001b[39m\u001b[39m+\u001b[39m\u001b[39mstr\u001b[39m(M2)\u001b[39m+\u001b[39m\u001b[39m\"\u001b[39m\u001b[39m s = \u001b[39m\u001b[39m\"\u001b[39m\u001b[39m+\u001b[39m\u001b[39mstr\u001b[39m(s))\n",
      "\u001b[1;32mc:\\Users\\spica\\Desktop\\EE5907\\example.ipynb Cell 1\u001b[0m in \u001b[0;36mmle_basis_plot\u001b[1;34m(x, w)\u001b[0m\n\u001b[0;32m     <a href='vscode-notebook-cell:/c%3A/Users/spica/Desktop/EE5907/example.ipynb#ch0000000?line=68'>69</a>\u001b[0m \u001b[39mfor\u001b[39;00m m \u001b[39min\u001b[39;00m \u001b[39mrange\u001b[39m(M):\n\u001b[0;32m     <a href='vscode-notebook-cell:/c%3A/Users/spica/Desktop/EE5907/example.ipynb#ch0000000?line=69'>70</a>\u001b[0m     mu \u001b[39m=\u001b[39m m\u001b[39m/\u001b[39mM\n\u001b[1;32m---> <a href='vscode-notebook-cell:/c%3A/Users/spica/Desktop/EE5907/example.ipynb#ch0000000?line=70'>71</a>\u001b[0m     phi[:, m] \u001b[39m=\u001b[39m np\u001b[39m.\u001b[39mvectorize(guassian_basis(x, mu))\n\u001b[0;32m     <a href='vscode-notebook-cell:/c%3A/Users/spica/Desktop/EE5907/example.ipynb#ch0000000?line=72'>73</a>\u001b[0m y \u001b[39m=\u001b[39m np\u001b[39m.\u001b[39mdot(phi, w)\n\u001b[0;32m     <a href='vscode-notebook-cell:/c%3A/Users/spica/Desktop/EE5907/example.ipynb#ch0000000?line=73'>74</a>\u001b[0m \u001b[39mreturn\u001b[39;00m x, y\n",
      "\u001b[1;31mTypeError\u001b[0m: float() argument must be a string or a real number, not 'vectorize'"
     ]
    }
   ],
   "source": [
    "import numpy as np\n",
    "from matplotlib import pyplot as plt\n",
    "from scipy import linalg\n",
    "\n",
    "# generate 50 2D-data points\n",
    "def actual_dis():\n",
    "    x = np.arange(0,1,0.02)\n",
    "    y = np.sin(x**2 + 1)\n",
    "    return x,y\n",
    "\n",
    "# add Guassian noise\n",
    "def add_noise(y_origin):\n",
    "    mu = 0\n",
    "    sigma = 0.04\n",
    "    noise = np.random.normal(mu, sigma, len(y_origin))  \n",
    "    y_noise = y_origin + noise\n",
    "    return y_noise\n",
    "\n",
    "# fit the original data\n",
    "def poly_fitting(x, y, M):\n",
    "    z = np.polyfit(x, y, M)\n",
    "    f = np.poly1d(z)\n",
    "    return f\n",
    "\n",
    "# generate original data\n",
    "x_true,y_ture = actual_dis()\n",
    "\n",
    "# fit on the original data\n",
    "M1 = 3\n",
    "f = poly_fitting(x_true, y_ture, M1)\n",
    "#x_curve = np.linspace(x_true[0], x_true[-1],50)\n",
    "x_curve = x_true\n",
    "y_curve = f(x_curve)\n",
    "\n",
    "# add_noise\n",
    "y_noise = add_noise(y_curve)\n",
    "x_noise = x_curve\n",
    "\n",
    "def guassian_basis(x, mu, s=1):\n",
    "    return np.exp(-s * linalg.norm(mu - x)**2)\n",
    "\n",
    "def mle_basis_func(x, y, M, s):\n",
    "    N = len(x)\n",
    "    phi = np.zeros([N,M])\n",
    "    vy = np.zeros([N,1])\n",
    "    \n",
    "    # calculate the guassian_basis matrix\n",
    "    for m in range(M):\n",
    "        mu = m/M\n",
    "        phi[:, m] = np.vectorize(guassian_basis)(x, mu, s)\n",
    "    \n",
    "    for n in range(0, N):\n",
    "        vy[n][0] = y[n]\n",
    "        \n",
    "    # mphi = np.dot(phi.T, phi)\n",
    "    # imphi = linalg.inv(mphi)\n",
    "    # tmp = np.dot(imphi, phi.T)\n",
    "    \n",
    "    tmp = linalg.pinv(phi)\n",
    "    \n",
    "    w = np.dot(tmp, vy)\n",
    "    return w, phi\n",
    "\n",
    "def mle_basis_plot(x,w):\n",
    "    M = len(w)\n",
    "    N = len(x)\n",
    "    phi = np.zeros([N,M])\n",
    "    \n",
    "    for m in range(M):\n",
    "        mu = m/M\n",
    "        phi[:, m] = np.vectorize(guassian_basis(x, mu))\n",
    "                \n",
    "    y = np.dot(phi, w)\n",
    "    return x, y\n",
    "\n",
    "#plot\n",
    "M2 = 100\n",
    "s = 1\n",
    "[w, phi_guas] = mle_basis_func(x_noise, y_noise, M2, s)\n",
    "[x_map, y_map] = mle_basis_plot(x_curve, w)\n",
    "# plot\n",
    "plt.title(\"M = \"+str(M2)+\" s = \"+str(s))\n",
    "plt.plot(x_true, y_ture, 'ro',markevery=3)\n",
    "plt.plot(x_curve, y_curve, 'red')\n",
    "plt.plot(x_noise, y_noise, 'go')\n",
    "plt.plot(x_map, y_map)\n",
    "plt.show"
   ]
  }
 ],
 "metadata": {
  "kernelspec": {
   "display_name": "Python 3.10.5 64-bit",
   "language": "python",
   "name": "python3"
  },
  "language_info": {
   "codemirror_mode": {
    "name": "ipython",
    "version": 3
   },
   "file_extension": ".py",
   "mimetype": "text/x-python",
   "name": "python",
   "nbconvert_exporter": "python",
   "pygments_lexer": "ipython3",
   "version": "3.10.5"
  },
  "orig_nbformat": 4,
  "vscode": {
   "interpreter": {
    "hash": "d9c0f09fd19abb46fc2f2a9bb185b5c1df755b3068a7c3abaae355f5937e923b"
   }
  }
 },
 "nbformat": 4,
 "nbformat_minor": 2
}
